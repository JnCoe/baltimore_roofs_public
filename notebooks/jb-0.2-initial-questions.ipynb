{
 "cells": [
  {
   "attachments": {},
   "cell_type": "markdown",
   "id": "f386b411-690a-4c33-80ac-ba67ad69dada",
   "metadata": {},
   "source": [
    "-- Initial questions\n",
    "\n",
    "Jonas Barros\n",
    "\n",
    "**OBSERVATION: Some cell results have been removed due to sensitive data that cannot be shared. The code remains unaltered.**\n",
    "\n",
    "# Connecting to database"
   ]
  },
  {
   "cell_type": "code",
   "execution_count": 61,
   "id": "a1d06d74-30db-4522-a6eb-0604dde6e064",
   "metadata": {},
   "outputs": [],
   "source": [
    "# Importing libraries\n",
    "import numpy as np\n",
    "import pandas as pd\n",
    "#import seaborn as sns\n",
    "import os\n",
    "#import matplotlib.pyplot as plt\n",
    "\n",
    "pd.set_option(\"display.max_columns\", None)\n",
    "\n",
    "from sqlalchemy import create_engine\n",
    "\n",
    "# Getting connection\n",
    "def get_db_conn():\n",
    "    \"\"\" Get an authenticated psycopg db connection\"\"\"\n",
    "    \n",
    "    user=os.getenv('PGUSER'),  # returns tuple\n",
    "    password=os.getenv('PGPASSWORD'), #returns tuple\n",
    "    host=os.getenv('PGHOST'), #returns tuple\n",
    "    port=int(os.getenv('PGPORT')), #returns tuple\n",
    "    database=os.getenv('PGDATABASE')\n",
    "    \n",
    "    engine = create_engine('postgresql://{}:{}@{}:{}/{}'.format(user[0], \n",
    "                                                                password[0], \n",
    "                                                                host[0], \n",
    "                                                                port[0], \n",
    "                                                                database))\n",
    "    connection = engine.connect()\n",
    "    \n",
    "    return connection\n",
    "\n",
    "db_conn = get_db_conn()"
   ]
  },
  {
   "cell_type": "markdown",
   "id": "cea68fd7",
   "metadata": {},
   "source": [
    "# Initial questions"
   ]
  },
  {
   "cell_type": "markdown",
   "id": "6aba25fd",
   "metadata": {},
   "source": [
    "## What are the number of emergency demolitions vs. number of demolitions?"
   ]
  },
  {
   "cell_type": "markdown",
   "id": "1e341f10",
   "metadata": {},
   "source": [
    "Relevant tables:\n",
    "- completedcitydemolition\n",
    "- planneddemolition\n",
    "\n",
    "Both tables share an 'id_demo_rf' column. Let's join the tables on this column and see if their content seems to match (i.e., if both columns share the same information)."
   ]
  },
  {
   "cell_type": "code",
   "execution_count": 2,
   "id": "4e578c43",
   "metadata": {},
   "outputs": [],
   "source": [
    "q = '''\n",
    "SELECT\n",
    "    *\n",
    "FROM\n",
    "    raw.completedcitydemolition c\n",
    "LEFT JOIN raw.planneddemolition p ON\n",
    "    c.id_demo_rf = p.id_demo_rf\n",
    "'''\n",
    "\n",
    "results = pd.read_sql(q, db_conn)"
   ]
  },
  {
   "cell_type": "code",
   "execution_count": null,
   "id": "346725d4",
   "metadata": {},
   "outputs": [],
   "source": [
    "results"
   ]
  },
  {
   "cell_type": "code",
   "execution_count": 4,
   "id": "11d9e82b",
   "metadata": {},
   "outputs": [],
   "source": [
    "#Filter all None values from dataframe on column collapsedg\n",
    "results = results.dropna(subset=['collapsedg'])"
   ]
  },
  {
   "cell_type": "code",
   "execution_count": 5,
   "id": "e69f2409",
   "metadata": {},
   "outputs": [
    {
     "data": {
      "text/html": [
       "<div>\n",
       "<style scoped>\n",
       "    .dataframe tbody tr th:only-of-type {\n",
       "        vertical-align: middle;\n",
       "    }\n",
       "\n",
       "    .dataframe tbody tr th {\n",
       "        vertical-align: top;\n",
       "    }\n",
       "\n",
       "    .dataframe thead th {\n",
       "        text-align: right;\n",
       "    }\n",
       "</style>\n",
       "<table border=\"1\" class=\"dataframe\">\n",
       "  <thead>\n",
       "    <tr style=\"text-align: right;\">\n",
       "      <th></th>\n",
       "      <th>objectid</th>\n",
       "      <th>id_demo_rf</th>\n",
       "      <th>groupstatu</th>\n",
       "      <th>decision</th>\n",
       "      <th>core_phase</th>\n",
       "      <th>shape_length</th>\n",
       "      <th>shape_area</th>\n",
       "      <th>shape</th>\n",
       "      <th>objectid</th>\n",
       "      <th>id_demo_rf</th>\n",
       "      <th>groupstatu</th>\n",
       "      <th>decision</th>\n",
       "      <th>core_phase</th>\n",
       "      <th>collapsedg</th>\n",
       "      <th>shape_length</th>\n",
       "      <th>shape_area</th>\n",
       "      <th>shape</th>\n",
       "    </tr>\n",
       "  </thead>\n",
       "  <tbody>\n",
       "  </tbody>\n",
       "</table>\n",
       "</div>"
      ],
      "text/plain": [
       "Empty DataFrame\n",
       "Columns: [objectid, id_demo_rf, groupstatu, decision, core_phase, shape_length, shape_area, shape, objectid, id_demo_rf, groupstatu, decision, core_phase, collapsedg, shape_length, shape_area, shape]\n",
       "Index: []"
      ]
     },
     "execution_count": 5,
     "metadata": {},
     "output_type": "execute_result"
    }
   ],
   "source": [
    "results"
   ]
  },
  {
   "cell_type": "markdown",
   "id": "c9c87589",
   "metadata": {},
   "source": [
    "As we can see, there is no match between the two tables, which lead us to conclude that the planned demolition table (with just 168 rows) may not keep any record of previous planned demolitions, serving solely as a snapshot of currently planned demolitions.\n",
    "\n",
    "It is also worth noting that, while the completed demolition table contains much more registries, it basically provides no useful information beyond columns \"groupstatu\", \"decision\" and \"core_phase\".\n",
    "\n",
    "Let's take a look at the unique values of these columns and how they interact between themselves."
   ]
  },
  {
   "cell_type": "code",
   "execution_count": 6,
   "id": "2ee07da6",
   "metadata": {},
   "outputs": [],
   "source": [
    "del results\n",
    "\n",
    "q = '''\n",
    "SELECT\n",
    "    DISTINCT groupstatu, decision, core_phase\n",
    "FROM\n",
    "    raw.completedcitydemolition\n",
    "'''\n",
    "\n",
    "results = pd.read_sql(q, db_conn)"
   ]
  },
  {
   "cell_type": "code",
   "execution_count": 7,
   "id": "e96ad6f6",
   "metadata": {},
   "outputs": [],
   "source": [
    "# For each column, return their unique values\n",
    "uniques = results.apply(lambda x: x.unique())\n",
    "n_uniques = results.apply(lambda x: x.nunique())"
   ]
  },
  {
   "cell_type": "code",
   "execution_count": 8,
   "id": "be8fcb47",
   "metadata": {},
   "outputs": [
    {
     "data": {
      "text/html": [
       "<div>\n",
       "<style scoped>\n",
       "    .dataframe tbody tr th:only-of-type {\n",
       "        vertical-align: middle;\n",
       "    }\n",
       "\n",
       "    .dataframe tbody tr th {\n",
       "        vertical-align: top;\n",
       "    }\n",
       "\n",
       "    .dataframe thead th {\n",
       "        text-align: right;\n",
       "    }\n",
       "</style>\n",
       "<table border=\"1\" class=\"dataframe\">\n",
       "  <thead>\n",
       "    <tr style=\"text-align: right;\">\n",
       "      <th></th>\n",
       "      <th>0</th>\n",
       "    </tr>\n",
       "  </thead>\n",
       "  <tbody>\n",
       "    <tr>\n",
       "      <th>groupstatu</th>\n",
       "      <td>1</td>\n",
       "    </tr>\n",
       "    <tr>\n",
       "      <th>decision</th>\n",
       "      <td>6</td>\n",
       "    </tr>\n",
       "    <tr>\n",
       "      <th>core_phase</th>\n",
       "      <td>9</td>\n",
       "    </tr>\n",
       "  </tbody>\n",
       "</table>\n",
       "</div>"
      ],
      "text/plain": [
       "            0\n",
       "groupstatu  1\n",
       "decision    6\n",
       "core_phase  9"
      ]
     },
     "execution_count": 8,
     "metadata": {},
     "output_type": "execute_result"
    }
   ],
   "source": [
    "n_uniques.to_frame()"
   ]
  },
  {
   "cell_type": "code",
   "execution_count": 9,
   "id": "72c5cb66",
   "metadata": {},
   "outputs": [
    {
     "data": {
      "text/html": [
       "<div>\n",
       "<style scoped>\n",
       "    .dataframe tbody tr th:only-of-type {\n",
       "        vertical-align: middle;\n",
       "    }\n",
       "\n",
       "    .dataframe tbody tr th {\n",
       "        vertical-align: top;\n",
       "    }\n",
       "\n",
       "    .dataframe thead th {\n",
       "        text-align: right;\n",
       "    }\n",
       "</style>\n",
       "<table border=\"1\" class=\"dataframe\">\n",
       "  <thead>\n",
       "    <tr style=\"text-align: right;\">\n",
       "      <th></th>\n",
       "      <th>0</th>\n",
       "    </tr>\n",
       "  </thead>\n",
       "  <tbody>\n",
       "    <tr>\n",
       "      <th>groupstatu</th>\n",
       "      <td>[Final/Full Demo Complete]</td>\n",
       "    </tr>\n",
       "    <tr>\n",
       "      <th>decision</th>\n",
       "      <td>[47, 90, 124, 48, 49, 91]</td>\n",
       "    </tr>\n",
       "    <tr>\n",
       "      <th>core_phase</th>\n",
       "      <td>[ , Removed from 5- City to Demo, 1, NA, 2, 3, Removed from 5 - City to demo, 4, removed from CORE Phase 5 to move to CDBG]</td>\n",
       "    </tr>\n",
       "  </tbody>\n",
       "</table>\n",
       "</div>"
      ],
      "text/plain": [
       "                                                                                                                                      0\n",
       "groupstatu                                                                                                   [Final/Full Demo Complete]\n",
       "decision                                                                                                      [47, 90, 124, 48, 49, 91]\n",
       "core_phase  [ , Removed from 5- City to Demo, 1, NA, 2, 3, Removed from 5 - City to demo, 4, removed from CORE Phase 5 to move to CDBG]"
      ]
     },
     "metadata": {},
     "output_type": "display_data"
    }
   ],
   "source": [
    "with pd.option_context('display.max_colwidth', None):\n",
    "    display(uniques.to_frame())"
   ]
  },
  {
   "cell_type": "code",
   "execution_count": null,
   "id": "5138bcd8",
   "metadata": {},
   "outputs": [],
   "source": [
    "results"
   ]
  },
  {
   "cell_type": "markdown",
   "id": "581289ca",
   "metadata": {},
   "source": [
    "We can see that the \"groupstatu\" column does not provide any useful information since it contains the same value for all rows. This might be an indicative that this table is an extraction of a bigger, more detailed table.\n",
    "\n",
    "The decision column seems to be the most useful since it contains six different values. However, we do not know their meaning. A dictionary for this data need to be requested.\n",
    "\n",
    "Lastly, the \"core_phase\" column actually contains only six unique values, instead of nine. The columns with the \"5\" number are actually the same content, with a typing difference (the space before the dash character), and there are both null values and empty fields. It does provide some useful insights on the core program, which apparently has 5 different phases and at least some vacant lots (considering that this list contains demolitions that occured) are moved to the CDBG: Community Development Block Grant Programs.\n",
    "\n",
    "Since we are already here, let's just take a look at how the data is distributed across the columns."
   ]
  },
  {
   "cell_type": "code",
   "execution_count": 11,
   "id": "a44594b3",
   "metadata": {},
   "outputs": [],
   "source": [
    "del results\n",
    "\n",
    "q = '''\n",
    "SELECT\n",
    "    decision, count(*)\n",
    "FROM\n",
    "    raw.completedcitydemolition\n",
    "GROUP BY\n",
    "    decision\n",
    "'''\n",
    "\n",
    "results = pd.read_sql(q, db_conn)"
   ]
  },
  {
   "cell_type": "code",
   "execution_count": null,
   "id": "cd1d37a3",
   "metadata": {},
   "outputs": [],
   "source": [
    "results"
   ]
  },
  {
   "cell_type": "code",
   "execution_count": 13,
   "id": "dab775e9",
   "metadata": {},
   "outputs": [],
   "source": [
    "del results\n",
    "\n",
    "q = '''\n",
    "SELECT\n",
    "    core_phase, count(*)\n",
    "FROM\n",
    "    raw.completedcitydemolition\n",
    "GROUP BY\n",
    "    core_phase\n",
    "'''\n",
    "\n",
    "results = pd.read_sql(q, db_conn)"
   ]
  },
  {
   "cell_type": "code",
   "execution_count": null,
   "id": "1197323b",
   "metadata": {},
   "outputs": [],
   "source": [
    "results"
   ]
  },
  {
   "cell_type": "markdown",
   "id": "cc66b0f1",
   "metadata": {},
   "source": [
    "So basically the decisions with codes 90 and 47 are the ones that concentrate most of the results. Meanwhile, on the core_phase side, most rows are empty, with group 4 having a slightly majority among those rows with a core_phase."
   ]
  },
  {
   "cell_type": "markdown",
   "id": "72ec5883",
   "metadata": {},
   "source": [
    "### TL;DR\n",
    "> 1. We need to request a dictionary to better understand what the 'decision' and 'core_phase' codes mean.\n",
    "\n",
    "> 2. We need to ask if the completeddemolition table is just an extraction of a bigger, more relevant table.\n",
    "\n",
    "> 3. We need to ask if there is any historical data on planned demolitions.\n",
    "\n",
    "> 4. Data on demolition currently is to scarce"
   ]
  },
  {
   "cell_type": "markdown",
   "id": "60667b44",
   "metadata": {},
   "source": [
    "## How to connect properties in the tax parcel database and real estate data?"
   ]
  },
  {
   "cell_type": "markdown",
   "id": "d3b81743",
   "metadata": {},
   "source": [
    "The real state table does not contain much information by itself beyond date of deed, price and neighborhood, so it need to check if it has an unique id that can be crossed with potentially other useful data.\n",
    "\n",
    "Let's do that now. There are three possibilities that can be used:\n",
    "1. ogc_fid\n",
    "2. blocklot\n",
    "3. objectid\n",
    "\n",
    "Testing the first one:"
   ]
  },
  {
   "cell_type": "code",
   "execution_count": 15,
   "id": "1cff49d2",
   "metadata": {},
   "outputs": [],
   "source": [
    "del results\n",
    "\n",
    "# Select tables that contain a column with 'ogc' in the name\n",
    "q = '''\n",
    "SELECT\n",
    "    *\n",
    "FROM\n",
    "    information_schema.columns\n",
    "WHERE\n",
    "    table_schema = 'raw'\n",
    "    AND column_name LIKE '%%ogc%%';\n",
    "'''\n",
    "\n",
    "results = pd.read_sql(q, db_conn)"
   ]
  },
  {
   "cell_type": "code",
   "execution_count": 16,
   "id": "aa4109af",
   "metadata": {},
   "outputs": [
    {
     "data": {
      "text/html": [
       "<div>\n",
       "<style scoped>\n",
       "    .dataframe tbody tr th:only-of-type {\n",
       "        vertical-align: middle;\n",
       "    }\n",
       "\n",
       "    .dataframe tbody tr th {\n",
       "        vertical-align: top;\n",
       "    }\n",
       "\n",
       "    .dataframe thead th {\n",
       "        text-align: right;\n",
       "    }\n",
       "</style>\n",
       "<table border=\"1\" class=\"dataframe\">\n",
       "  <thead>\n",
       "    <tr style=\"text-align: right;\">\n",
       "      <th></th>\n",
       "      <th>table_catalog</th>\n",
       "      <th>table_schema</th>\n",
       "      <th>table_name</th>\n",
       "      <th>column_name</th>\n",
       "      <th>ordinal_position</th>\n",
       "      <th>column_default</th>\n",
       "      <th>is_nullable</th>\n",
       "      <th>data_type</th>\n",
       "      <th>character_maximum_length</th>\n",
       "      <th>character_octet_length</th>\n",
       "      <th>numeric_precision</th>\n",
       "      <th>numeric_precision_radix</th>\n",
       "      <th>numeric_scale</th>\n",
       "      <th>datetime_precision</th>\n",
       "      <th>interval_type</th>\n",
       "      <th>interval_precision</th>\n",
       "      <th>character_set_catalog</th>\n",
       "      <th>character_set_schema</th>\n",
       "      <th>character_set_name</th>\n",
       "      <th>collation_catalog</th>\n",
       "      <th>collation_schema</th>\n",
       "      <th>collation_name</th>\n",
       "      <th>domain_catalog</th>\n",
       "      <th>domain_schema</th>\n",
       "      <th>domain_name</th>\n",
       "      <th>udt_catalog</th>\n",
       "      <th>udt_schema</th>\n",
       "      <th>udt_name</th>\n",
       "      <th>scope_catalog</th>\n",
       "      <th>scope_schema</th>\n",
       "      <th>scope_name</th>\n",
       "      <th>maximum_cardinality</th>\n",
       "      <th>dtd_identifier</th>\n",
       "      <th>is_self_referencing</th>\n",
       "      <th>is_identity</th>\n",
       "      <th>identity_generation</th>\n",
       "      <th>identity_start</th>\n",
       "      <th>identity_increment</th>\n",
       "      <th>identity_maximum</th>\n",
       "      <th>identity_minimum</th>\n",
       "      <th>identity_cycle</th>\n",
       "      <th>is_generated</th>\n",
       "      <th>generation_expression</th>\n",
       "      <th>is_updatable</th>\n",
       "    </tr>\n",
       "  </thead>\n",
       "  <tbody>\n",
       "    <tr>\n",
       "      <th>0</th>\n",
       "      <td>baltimore-roofs</td>\n",
       "      <td>raw</td>\n",
       "      <td>open_notice_vacant</td>\n",
       "      <td>ogc_fid</td>\n",
       "      <td>1</td>\n",
       "      <td>nextval('raw.open_notice_vacant_ogc_fid_seq'::...</td>\n",
       "      <td>NO</td>\n",
       "      <td>integer</td>\n",
       "      <td>None</td>\n",
       "      <td>None</td>\n",
       "      <td>32</td>\n",
       "      <td>2</td>\n",
       "      <td>0</td>\n",
       "      <td>None</td>\n",
       "      <td>None</td>\n",
       "      <td>None</td>\n",
       "      <td>None</td>\n",
       "      <td>None</td>\n",
       "      <td>None</td>\n",
       "      <td>None</td>\n",
       "      <td>None</td>\n",
       "      <td>None</td>\n",
       "      <td>None</td>\n",
       "      <td>None</td>\n",
       "      <td>None</td>\n",
       "      <td>baltimore-roofs</td>\n",
       "      <td>pg_catalog</td>\n",
       "      <td>int4</td>\n",
       "      <td>None</td>\n",
       "      <td>None</td>\n",
       "      <td>None</td>\n",
       "      <td>None</td>\n",
       "      <td>1</td>\n",
       "      <td>NO</td>\n",
       "      <td>NO</td>\n",
       "      <td>None</td>\n",
       "      <td>None</td>\n",
       "      <td>None</td>\n",
       "      <td>None</td>\n",
       "      <td>None</td>\n",
       "      <td>NO</td>\n",
       "      <td>NEVER</td>\n",
       "      <td>None</td>\n",
       "      <td>YES</td>\n",
       "    </tr>\n",
       "    <tr>\n",
       "      <th>1</th>\n",
       "      <td>baltimore-roofs</td>\n",
       "      <td>raw</td>\n",
       "      <td>real_estate_data</td>\n",
       "      <td>ogc_fid</td>\n",
       "      <td>1</td>\n",
       "      <td>nextval('raw.real_estate_data_ogc_fid_seq'::re...</td>\n",
       "      <td>NO</td>\n",
       "      <td>integer</td>\n",
       "      <td>None</td>\n",
       "      <td>None</td>\n",
       "      <td>32</td>\n",
       "      <td>2</td>\n",
       "      <td>0</td>\n",
       "      <td>None</td>\n",
       "      <td>None</td>\n",
       "      <td>None</td>\n",
       "      <td>None</td>\n",
       "      <td>None</td>\n",
       "      <td>None</td>\n",
       "      <td>None</td>\n",
       "      <td>None</td>\n",
       "      <td>None</td>\n",
       "      <td>None</td>\n",
       "      <td>None</td>\n",
       "      <td>None</td>\n",
       "      <td>baltimore-roofs</td>\n",
       "      <td>pg_catalog</td>\n",
       "      <td>int4</td>\n",
       "      <td>None</td>\n",
       "      <td>None</td>\n",
       "      <td>None</td>\n",
       "      <td>None</td>\n",
       "      <td>1</td>\n",
       "      <td>NO</td>\n",
       "      <td>NO</td>\n",
       "      <td>None</td>\n",
       "      <td>None</td>\n",
       "      <td>None</td>\n",
       "      <td>None</td>\n",
       "      <td>None</td>\n",
       "      <td>NO</td>\n",
       "      <td>NEVER</td>\n",
       "      <td>None</td>\n",
       "      <td>YES</td>\n",
       "    </tr>\n",
       "    <tr>\n",
       "      <th>2</th>\n",
       "      <td>baltimore-roofs</td>\n",
       "      <td>raw</td>\n",
       "      <td>building_construction_permits</td>\n",
       "      <td>ogc_fid</td>\n",
       "      <td>1</td>\n",
       "      <td>nextval('raw.building_construction_permits_ogc...</td>\n",
       "      <td>NO</td>\n",
       "      <td>integer</td>\n",
       "      <td>None</td>\n",
       "      <td>None</td>\n",
       "      <td>32</td>\n",
       "      <td>2</td>\n",
       "      <td>0</td>\n",
       "      <td>None</td>\n",
       "      <td>None</td>\n",
       "      <td>None</td>\n",
       "      <td>None</td>\n",
       "      <td>None</td>\n",
       "      <td>None</td>\n",
       "      <td>None</td>\n",
       "      <td>None</td>\n",
       "      <td>None</td>\n",
       "      <td>None</td>\n",
       "      <td>None</td>\n",
       "      <td>None</td>\n",
       "      <td>baltimore-roofs</td>\n",
       "      <td>pg_catalog</td>\n",
       "      <td>int4</td>\n",
       "      <td>None</td>\n",
       "      <td>None</td>\n",
       "      <td>None</td>\n",
       "      <td>None</td>\n",
       "      <td>1</td>\n",
       "      <td>NO</td>\n",
       "      <td>NO</td>\n",
       "      <td>None</td>\n",
       "      <td>None</td>\n",
       "      <td>None</td>\n",
       "      <td>None</td>\n",
       "      <td>None</td>\n",
       "      <td>NO</td>\n",
       "      <td>NEVER</td>\n",
       "      <td>None</td>\n",
       "      <td>YES</td>\n",
       "    </tr>\n",
       "    <tr>\n",
       "      <th>3</th>\n",
       "      <td>baltimore-roofs</td>\n",
       "      <td>raw</td>\n",
       "      <td>data_311</td>\n",
       "      <td>ogc_fid</td>\n",
       "      <td>1</td>\n",
       "      <td>nextval('raw.data_311_ogc_fid_seq'::regclass)</td>\n",
       "      <td>NO</td>\n",
       "      <td>integer</td>\n",
       "      <td>None</td>\n",
       "      <td>None</td>\n",
       "      <td>32</td>\n",
       "      <td>2</td>\n",
       "      <td>0</td>\n",
       "      <td>None</td>\n",
       "      <td>None</td>\n",
       "      <td>None</td>\n",
       "      <td>None</td>\n",
       "      <td>None</td>\n",
       "      <td>None</td>\n",
       "      <td>None</td>\n",
       "      <td>None</td>\n",
       "      <td>None</td>\n",
       "      <td>None</td>\n",
       "      <td>None</td>\n",
       "      <td>None</td>\n",
       "      <td>baltimore-roofs</td>\n",
       "      <td>pg_catalog</td>\n",
       "      <td>int4</td>\n",
       "      <td>None</td>\n",
       "      <td>None</td>\n",
       "      <td>None</td>\n",
       "      <td>None</td>\n",
       "      <td>1</td>\n",
       "      <td>NO</td>\n",
       "      <td>NO</td>\n",
       "      <td>None</td>\n",
       "      <td>None</td>\n",
       "      <td>None</td>\n",
       "      <td>None</td>\n",
       "      <td>None</td>\n",
       "      <td>NO</td>\n",
       "      <td>NEVER</td>\n",
       "      <td>None</td>\n",
       "      <td>YES</td>\n",
       "    </tr>\n",
       "    <tr>\n",
       "      <th>4</th>\n",
       "      <td>baltimore-roofs</td>\n",
       "      <td>raw</td>\n",
       "      <td>tax_parcel_address</td>\n",
       "      <td>ogc_fid</td>\n",
       "      <td>1</td>\n",
       "      <td>nextval('raw.tax_parcel_address_ogc_fid_seq'::...</td>\n",
       "      <td>NO</td>\n",
       "      <td>integer</td>\n",
       "      <td>None</td>\n",
       "      <td>None</td>\n",
       "      <td>32</td>\n",
       "      <td>2</td>\n",
       "      <td>0</td>\n",
       "      <td>None</td>\n",
       "      <td>None</td>\n",
       "      <td>None</td>\n",
       "      <td>None</td>\n",
       "      <td>None</td>\n",
       "      <td>None</td>\n",
       "      <td>None</td>\n",
       "      <td>None</td>\n",
       "      <td>None</td>\n",
       "      <td>None</td>\n",
       "      <td>None</td>\n",
       "      <td>None</td>\n",
       "      <td>baltimore-roofs</td>\n",
       "      <td>pg_catalog</td>\n",
       "      <td>int4</td>\n",
       "      <td>None</td>\n",
       "      <td>None</td>\n",
       "      <td>None</td>\n",
       "      <td>None</td>\n",
       "      <td>1</td>\n",
       "      <td>NO</td>\n",
       "      <td>NO</td>\n",
       "      <td>None</td>\n",
       "      <td>None</td>\n",
       "      <td>None</td>\n",
       "      <td>None</td>\n",
       "      <td>None</td>\n",
       "      <td>NO</td>\n",
       "      <td>NEVER</td>\n",
       "      <td>None</td>\n",
       "      <td>YES</td>\n",
       "    </tr>\n",
       "  </tbody>\n",
       "</table>\n",
       "</div>"
      ],
      "text/plain": [
       "     table_catalog table_schema                     table_name column_name  \\\n",
       "0  baltimore-roofs          raw             open_notice_vacant     ogc_fid   \n",
       "1  baltimore-roofs          raw               real_estate_data     ogc_fid   \n",
       "2  baltimore-roofs          raw  building_construction_permits     ogc_fid   \n",
       "3  baltimore-roofs          raw                       data_311     ogc_fid   \n",
       "4  baltimore-roofs          raw             tax_parcel_address     ogc_fid   \n",
       "\n",
       "   ordinal_position                                     column_default  \\\n",
       "0                 1  nextval('raw.open_notice_vacant_ogc_fid_seq'::...   \n",
       "1                 1  nextval('raw.real_estate_data_ogc_fid_seq'::re...   \n",
       "2                 1  nextval('raw.building_construction_permits_ogc...   \n",
       "3                 1      nextval('raw.data_311_ogc_fid_seq'::regclass)   \n",
       "4                 1  nextval('raw.tax_parcel_address_ogc_fid_seq'::...   \n",
       "\n",
       "  is_nullable data_type character_maximum_length character_octet_length  \\\n",
       "0          NO   integer                     None                   None   \n",
       "1          NO   integer                     None                   None   \n",
       "2          NO   integer                     None                   None   \n",
       "3          NO   integer                     None                   None   \n",
       "4          NO   integer                     None                   None   \n",
       "\n",
       "   numeric_precision  numeric_precision_radix  numeric_scale  \\\n",
       "0                 32                        2              0   \n",
       "1                 32                        2              0   \n",
       "2                 32                        2              0   \n",
       "3                 32                        2              0   \n",
       "4                 32                        2              0   \n",
       "\n",
       "  datetime_precision interval_type interval_precision character_set_catalog  \\\n",
       "0               None          None               None                  None   \n",
       "1               None          None               None                  None   \n",
       "2               None          None               None                  None   \n",
       "3               None          None               None                  None   \n",
       "4               None          None               None                  None   \n",
       "\n",
       "  character_set_schema character_set_name collation_catalog collation_schema  \\\n",
       "0                 None               None              None             None   \n",
       "1                 None               None              None             None   \n",
       "2                 None               None              None             None   \n",
       "3                 None               None              None             None   \n",
       "4                 None               None              None             None   \n",
       "\n",
       "  collation_name domain_catalog domain_schema domain_name      udt_catalog  \\\n",
       "0           None           None          None        None  baltimore-roofs   \n",
       "1           None           None          None        None  baltimore-roofs   \n",
       "2           None           None          None        None  baltimore-roofs   \n",
       "3           None           None          None        None  baltimore-roofs   \n",
       "4           None           None          None        None  baltimore-roofs   \n",
       "\n",
       "   udt_schema udt_name scope_catalog scope_schema scope_name  \\\n",
       "0  pg_catalog     int4          None         None       None   \n",
       "1  pg_catalog     int4          None         None       None   \n",
       "2  pg_catalog     int4          None         None       None   \n",
       "3  pg_catalog     int4          None         None       None   \n",
       "4  pg_catalog     int4          None         None       None   \n",
       "\n",
       "  maximum_cardinality dtd_identifier is_self_referencing is_identity  \\\n",
       "0                None              1                  NO          NO   \n",
       "1                None              1                  NO          NO   \n",
       "2                None              1                  NO          NO   \n",
       "3                None              1                  NO          NO   \n",
       "4                None              1                  NO          NO   \n",
       "\n",
       "  identity_generation identity_start identity_increment identity_maximum  \\\n",
       "0                None           None               None             None   \n",
       "1                None           None               None             None   \n",
       "2                None           None               None             None   \n",
       "3                None           None               None             None   \n",
       "4                None           None               None             None   \n",
       "\n",
       "  identity_minimum identity_cycle is_generated generation_expression  \\\n",
       "0             None             NO        NEVER                  None   \n",
       "1             None             NO        NEVER                  None   \n",
       "2             None             NO        NEVER                  None   \n",
       "3             None             NO        NEVER                  None   \n",
       "4             None             NO        NEVER                  None   \n",
       "\n",
       "  is_updatable  \n",
       "0          YES  \n",
       "1          YES  \n",
       "2          YES  \n",
       "3          YES  \n",
       "4          YES  "
      ]
     },
     "execution_count": 16,
     "metadata": {},
     "output_type": "execute_result"
    }
   ],
   "source": [
    "results"
   ]
  },
  {
   "cell_type": "markdown",
   "id": "db488ca5",
   "metadata": {},
   "source": [
    "The \"tax_parcel_addres\" seems to be the table with more potential to provide any insights, so let's take a look at it:"
   ]
  },
  {
   "cell_type": "code",
   "execution_count": 17,
   "id": "ce49ace2",
   "metadata": {},
   "outputs": [],
   "source": [
    "del results\n",
    "\n",
    "# Join real state data and tax parcel address tables\n",
    "q = '''\n",
    "SELECT\n",
    "    *\n",
    "FROM\n",
    "    raw.real_estate_data red\n",
    "LEFT JOIN raw.tax_parcel_address tpa ON\n",
    "    red.ogc_fid = tpa.ogc_fid;\n",
    "'''\n",
    "results = pd.read_sql(q, db_conn)"
   ]
  },
  {
   "cell_type": "code",
   "execution_count": null,
   "id": "1106283f",
   "metadata": {},
   "outputs": [],
   "source": [
    "results"
   ]
  },
  {
   "cell_type": "markdown",
   "id": "e891ed13",
   "metadata": {},
   "source": [
    "That's too much data, let's refine our results a little bit for better visual comparison:"
   ]
  },
  {
   "cell_type": "code",
   "execution_count": 39,
   "id": "ccb37839",
   "metadata": {},
   "outputs": [],
   "source": [
    "del results\n",
    "\n",
    "q = '''\n",
    "SELECT\n",
    "    red.ogc_fid ,\n",
    "    red.objectid ,\n",
    "    red.blocklot ,\n",
    "    red.nhood ,\n",
    "    tpa.ogc_fid,\n",
    "    tpa.objectid ,\n",
    "    tpa.blocklot ,\n",
    "    tpa.neighbor\n",
    "FROM\n",
    "    raw.real_estate_data red\n",
    "LEFT JOIN raw.tax_parcel_address tpa ON\n",
    "    red.ogc_fid = tpa.ogc_fid;\n",
    "'''\n",
    "results = pd.read_sql(q, db_conn)"
   ]
  },
  {
   "cell_type": "code",
   "execution_count": null,
   "id": "ebd2f4d6",
   "metadata": {},
   "outputs": [],
   "source": [
    "results"
   ]
  },
  {
   "cell_type": "markdown",
   "id": "bcf240de",
   "metadata": {},
   "source": [
    "Blocklot is not matching for most of the rows, the same for the neighborhoods. This lead us to believe that each data has its own ID and it is not possible to cross them using the ogc_fid column. However, what if we use the blocklot column?"
   ]
  },
  {
   "cell_type": "code",
   "execution_count": 42,
   "id": "c4ba8a2a",
   "metadata": {},
   "outputs": [],
   "source": [
    "del results\n",
    "\n",
    "q = '''\n",
    "SELECT\n",
    "    red.ogc_fid ,\n",
    "    red.objectid ,\n",
    "    red.blocklot ,\n",
    "    red.nhood ,\n",
    "    tpa.ogc_fid,\n",
    "    tpa.objectid ,\n",
    "    tpa.blocklot ,\n",
    "    tpa.neighbor\n",
    "FROM\n",
    "    raw.real_estate_data red\n",
    "LEFT JOIN raw.tax_parcel_address tpa ON\n",
    "    red.blocklot = tpa.blocklot;\n",
    "'''\n",
    "results = pd.read_sql(q, db_conn)"
   ]
  },
  {
   "cell_type": "code",
   "execution_count": null,
   "id": "d4273672",
   "metadata": {},
   "outputs": [],
   "source": [
    "results"
   ]
  },
  {
   "cell_type": "markdown",
   "id": "8c9f1135",
   "metadata": {},
   "source": [
    "It does seem to work, at least for some of the rows. Let's check how many that is."
   ]
  },
  {
   "cell_type": "code",
   "execution_count": null,
   "id": "f34df8ab",
   "metadata": {},
   "outputs": [],
   "source": [
    "# Convert all cells in nhood to uppercase and remove all non-alphanumeric characters\n",
    "results['nhood_cleaned'] = results['nhood'].str.upper().str.replace('[^A-Za-z]+', '')\n",
    "results['neighbor_cleaned'] = results['neighbor'].str.upper().str.replace('[^A-Za-z]+', '')\n"
   ]
  },
  {
   "cell_type": "code",
   "execution_count": 50,
   "id": "803d94e7",
   "metadata": {},
   "outputs": [],
   "source": [
    "# Filtering only rows that do not match nhood column to neighbor column\n",
    "results_incompatible = results[results['nhood_cleaned'] != results['neighbor_cleaned']]"
   ]
  },
  {
   "cell_type": "code",
   "execution_count": null,
   "id": "fee04a29",
   "metadata": {},
   "outputs": [],
   "source": [
    "results_incompatible"
   ]
  },
  {
   "cell_type": "code",
   "execution_count": 46,
   "id": "b7b355fb",
   "metadata": {},
   "outputs": [],
   "source": [
    "unmatches = results_incompatible[['nhood_cleaned','neighbor_cleaned']].drop_duplicates()\n",
    "\n",
    "# Remove rows with empty value\n",
    "unmatches = unmatches[~unmatches['nhood_cleaned'].str.contains('^$')]\n",
    "\n",
    "# Remove rows with null value\n",
    "unmatches = unmatches[~unmatches['neighbor_cleaned'].isnull()]"
   ]
  },
  {
   "cell_type": "code",
   "execution_count": 47,
   "id": "4f2bd53c",
   "metadata": {},
   "outputs": [],
   "source": [
    "u_unmatches = unmatches.drop_duplicates()"
   ]
  },
  {
   "cell_type": "code",
   "execution_count": 48,
   "id": "4d191fbd",
   "metadata": {},
   "outputs": [
    {
     "name": "stdout",
     "output_type": "stream",
     "text": [
      "Unmatched pairs: 28 \n",
      "Unmatched rows:28\n"
     ]
    }
   ],
   "source": [
    "print(f'Unmatched pairs: {len(u_unmatches)} \\nUnmatched rows:{len(unmatches)}')"
   ]
  },
  {
   "cell_type": "markdown",
   "id": "543c7f72",
   "metadata": {},
   "source": [
    "There are 28 exceptional cases where the neighborhood is not matching when joinig by the blocklot.\n",
    "Let's take a look at a few of those.\n",
    "For row '10483' the neighborhood in real_state_data is 'Inner Harbor' while the neighborhood in the tax_parcel_address is 'Fells Point'. However, these two neighborhoods are very close, so it could be a grey area situation.\n",
    "\n",
    "However, if we look at row '15844' the conflicting neighborhoods are West Arlington and Uplands, which are considerable distant. The tax parcel data has both the address and the geometry data for it so we are able to check if at least there is internal cohesion to the database.\n"
   ]
  },
  {
   "cell_type": "code",
   "execution_count": 24,
   "id": "1c722b3e",
   "metadata": {},
   "outputs": [],
   "source": [
    "# Getting coordinates from the wkb_geometry column\n",
    "\n",
    "q = '''\n",
    "SELECT\n",
    "blocklot,\n",
    "ST_AsText(ST_transform(ST_centroid(wkb_geometry), 4326))\n",
    "FROM\n",
    "    raw.tax_parcel_address red\n",
    "WHERE\n",
    "    blocklot = '2550A008H';\n",
    "'''\n",
    "results = pd.read_sql(q, db_conn)"
   ]
  },
  {
   "cell_type": "code",
   "execution_count": null,
   "id": "c63b5fbd",
   "metadata": {},
   "outputs": [],
   "source": [
    "results"
   ]
  },
  {
   "cell_type": "markdown",
   "id": "c989a43b",
   "metadata": {},
   "source": [
    "Looking at [Google Maps](https://www.google.com.br/maps/place/39%C2%B017'22.8%22N+76%C2%B041'23.3%22W/@39.2896746,-76.6920018,17z) we can see that the address provided by the tax parcel data is the same contained in the wkb geometry column and both are located in Edmondson Village / Uplands. The real state table, therefore, seems to be more trustworthy in terms of neighborhood, but at least we can assume that they are both talking about the same property, even though the tax parcel has the wrong neighborhood in it.\n",
    "\n",
    "Also worth noting the neighborhood column in the tax parcel database contains more than one spelling for the same neighborhood, revealing less consistency. For example, in the tax parcel table we have both \"SBI\" and \"South Baltimore\" as neighborhood names, even though they mean the same.\n",
    "\n",
    "Comparing unique values from both tables:"
   ]
  },
  {
   "cell_type": "code",
   "execution_count": 60,
   "id": "a167656a",
   "metadata": {},
   "outputs": [],
   "source": [
    "q = '''\n",
    "SELECT DISTINCT\n",
    "    red.nhood ,\n",
    "    tpa.neighbor\n",
    "FROM\n",
    "    raw.real_estate_data red\n",
    "LEFT JOIN raw.tax_parcel_address tpa ON\n",
    "    red.blocklot = tpa.blocklot;\n",
    "'''\n",
    "results = pd.read_sql(q, db_conn)\n",
    "\n",
    "un_tax = results[['neighbor']].drop_duplicates().sort_values(by = 'neighbor')\n",
    "un_real = results[['nhood']].drop_duplicates()"
   ]
  },
  {
   "cell_type": "code",
   "execution_count": 58,
   "id": "a08e8418",
   "metadata": {},
   "outputs": [
    {
     "name": "stdout",
     "output_type": "stream",
     "text": [
      "Unique neighborhoods in tax_parcel database: 272\n",
      "Unique neighborhoods in real_estate_data database: 265\n"
     ]
    }
   ],
   "source": [
    "print(f'Unique neighborhoods in tax_parcel database: {len(un_tax)}\\nUnique neighborhoods in real_estate_data database: {len(un_real)}')"
   ]
  },
  {
   "cell_type": "markdown",
   "id": "98af9960",
   "metadata": {},
   "source": [
    "On the other hand, it is important to keep in mind that some columns are empty on one table but not on another, and vice-versa:"
   ]
  },
  {
   "cell_type": "code",
   "execution_count": 69,
   "id": "22fcc955",
   "metadata": {},
   "outputs": [
    {
     "name": "stdout",
     "output_type": "stream",
     "text": [
      "Empty rows in tax_parcel: 121\n",
      "Empty rows in real_estate: 78\n",
      "Empty rows in both: 1\n"
     ]
    }
   ],
   "source": [
    "# Substitute rows with \"0\" value to null\n",
    "results['nhood'] = results['nhood'].replace('0', np.nan)\n",
    "results['neighbor'] = results['neighbor'].replace('0', np.nan)\n",
    "# Count rows with null value in column neighbor\n",
    "print(f'''Empty rows in tax_parcel: {len(results[results['neighbor'].isnull()])}\n",
    "Empty rows in real_estate: {len(results[results['nhood'].isnull()])}''')\n",
    "\n",
    "# Count rows with null value in both columns neighbor and nhood\n",
    "print(f'''Empty rows in both: {len(results[results['neighbor'].isnull() & results['nhood'].isnull()])}''')"
   ]
  },
  {
   "cell_type": "markdown",
   "id": "953e67c3",
   "metadata": {},
   "source": [
    "So while the real estate data seem more reliable, we should keep in mind that it might need to be complemented by the real state data."
   ]
  },
  {
   "cell_type": "markdown",
   "id": "60590325",
   "metadata": {},
   "source": [
    "### TL;DR\n",
    "> 5. ogc_fid and objectid does not match between tax parcel data and real estate data, suggesting it could be an unique identifier for each table.\n",
    "\n",
    "> 6. Blocklot seems to be a reliable way to connect tax parcel and real estate data.\n",
    "\n",
    "> 7. Both tables have missing fields, with real estate data apparently being more reliable."
   ]
  }
 ],
 "metadata": {
  "kernelspec": {
   "display_name": "Python 3 (ipykernel)",
   "language": "python",
   "name": "python3"
  },
  "language_info": {
   "codemirror_mode": {
    "name": "ipython",
    "version": 3
   },
   "file_extension": ".py",
   "mimetype": "text/x-python",
   "name": "python",
   "nbconvert_exporter": "python",
   "pygments_lexer": "ipython3",
   "version": "3.10.4"
  }
 },
 "nbformat": 4,
 "nbformat_minor": 5
}
